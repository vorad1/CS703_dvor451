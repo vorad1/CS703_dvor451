{
  "nbformat": 4,
  "nbformat_minor": 0,
  "metadata": {
    "colab": {
      "provenance": [],
      "authorship_tag": "ABX9TyMq+JYez3rK07qN4VNQNQpN",
      "include_colab_link": true
    },
    "kernelspec": {
      "name": "python3",
      "display_name": "Python 3"
    },
    "language_info": {
      "name": "python"
    }
  },
  "cells": [
    {
      "cell_type": "markdown",
      "metadata": {
        "id": "view-in-github",
        "colab_type": "text"
      },
      "source": [
        "<a href=\"https://colab.research.google.com/github/vorad1/CS703_dvor451/blob/working/Code.ipynb\" target=\"_parent\"><img src=\"https://colab.research.google.com/assets/colab-badge.svg\" alt=\"Open In Colab\"/></a>"
      ]
    },
    {
      "cell_type": "code",
      "source": [
        "from google.colab import userdata\n",
        "HF_TOKEN=userdata.get('HF_TOKEN')\n",
        "\n",
        "from huggingface_hub import login\n",
        "import os\n",
        "\n",
        "# Get the secret\n",
        "token = HF_TOKEN\n",
        "login(token=token)"
      ],
      "metadata": {
        "id": "hWgOjPEQOrMz"
      },
      "execution_count": 1,
      "outputs": []
    },
    {
      "cell_type": "code",
      "source": [
        "from transformers import AutoTokenizer, AutoModelForSeq2SeqLM, pipeline\n",
        "from datasets import load_dataset\n",
        "\n",
        "# Loading FLAN-T5 model and tokenizer\n",
        "model_name = \"google/flan-t5-base\"\n",
        "tokenizer = AutoTokenizer.from_pretrained(model_name)\n",
        "model = AutoModelForSeq2SeqLM.from_pretrained(model_name)\n",
        "\n",
        "# Set up inference pipeline\n",
        "pipe = pipeline(\"text2text-generation\", model=model, tokenizer=tokenizer)\n",
        "\n",
        "# Load CommonsenseQA dataset\n",
        "dataset = load_dataset(\"commonsense_qa\", cache_dir=\"/content/hf_cache\")\n"
      ],
      "metadata": {
        "id": "A-xcBkrCSLm3"
      },
      "execution_count": null,
      "outputs": []
    },
    {
      "cell_type": "code",
      "source": [
        "# Selecting 2 in-context examples and 1 test question\n",
        "prompt = \"\"\"Question: Why would someone wear gloves?\n",
        "A) To keep their hands clean\n",
        "B) To make their hands soft\n",
        "C) To show off\n",
        "D) To cover scars\n",
        "Answer: A\n",
        "\n",
        "Question: Why do people use umbrellas?\n",
        "A) To fly\n",
        "B) To block the sun or rain\n",
        "C) To walk faster\n",
        "D) To play with\n",
        "Answer: B\n",
        "\n",
        "Question: Why do people wear sunglasses?\n",
        "A) To look cool\n",
        "B) To protect their eyes from bright light\n",
        "C) To see better in the dark\n",
        "D) To avoid being recognized\n",
        "Answer:\"\"\"\n",
        "\n",
        "# Generate prediction based on training\n",
        "result = pipe(prompt, max_new_tokens=5)[0]['generated_text']\n",
        "print(\"Model's answer:\", result)\n"
      ],
      "metadata": {
        "colab": {
          "base_uri": "https://localhost:8080/"
        },
        "id": "LxIlxeSiUWg0",
        "outputId": "355bbee4-07b4-44c7-c239-b01e41072b65"
      },
      "execution_count": 3,
      "outputs": [
        {
          "output_type": "stream",
          "name": "stdout",
          "text": [
            "Model's answer: B\n"
          ]
        }
      ]
    }
  ]
}